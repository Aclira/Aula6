{
 "cells": [
  {
   "cell_type": "code",
   "execution_count": 31,
   "metadata": {
    "collapsed": false
   },
   "outputs": [
    {
     "ename": "SyntaxError",
     "evalue": "invalid syntax (<ipython-input-31-9b148926df43>, line 6)",
     "output_type": "error",
     "traceback": [
      "\u001b[0;36m  File \u001b[0;32m\"<ipython-input-31-9b148926df43>\"\u001b[0;36m, line \u001b[0;32m6\u001b[0m\n\u001b[0;31m    def func1(t)\u001b[0m\n\u001b[0m                ^\u001b[0m\n\u001b[0;31mSyntaxError\u001b[0m\u001b[0;31m:\u001b[0m invalid syntax\n"
     ]
    }
   ],
   "source": [
    "#Primeiro plot pra fazeer\n",
    "\n",
    "import numpy as np\n",
    "import matplotlib.pyplot as pl\n",
    "\n",
    "def func1(t)\n",
    "    return x = 2*t +3\n",
    "\n",
    "def func2(t)\n",
    "return z = (-2)*t +3\n",
    "\n",
    "pl.show()\n",
    "pl.title(\"Retas concorrentes\")\n",
    "\n",
    "pl.plot(y)\n",
    "pl.plot(z)\n",
    "pl.show()"
   ]
  },
  {
   "cell_type": "code",
   "execution_count": 28,
   "metadata": {
    "collapsed": false
   },
   "outputs": [
    {
     "data": {
      "text/plain": [
       "array([ 1.,  1.])"
      ]
     },
     "execution_count": 28,
     "metadata": {},
     "output_type": "execute_result"
    }
   ],
   "source": [
    "a = np.array([[2,1], [1,-3]])\n",
    "b = np.array([3,-2])\n",
    "x = np.linalg.solve(a,b)\n",
    "x\n"
   ]
  },
  {
   "cell_type": "code",
   "execution_count": 29,
   "metadata": {
    "collapsed": false
   },
   "outputs": [
    {
     "data": {
      "text/plain": [
       "True"
      ]
     },
     "execution_count": 29,
     "metadata": {},
     "output_type": "execute_result"
    }
   ],
   "source": [
    "np.allclose(np.dot(a,x),b)"
   ]
  },
  {
   "cell_type": "code",
   "execution_count": 48,
   "metadata": {
    "collapsed": false
   },
   "outputs": [
    {
     "data": {
      "image/png": "[encoded data removed]",
      "text/plain": [
       "<matplotlib.figure.Figure at 0x28a73b2acc0>"
      ]
     },
     "metadata": {},
     "output_type": "display_data"
    }
   ],
   "source": [
    "#caso de infinitas posições\n",
    "import numpy as np\n",
    "import matplotlib.pyplot as plt\n",
    "\n",
    "def func1(t):\n",
    "    return 2*t +3\n",
    "\n",
    "def func2(t1):\n",
    "    return (6)*t1 +2\n",
    "\n",
    "#E pra ser paralelo\n",
    "n = np.linspace(-10,12, 10)\n",
    "b = np.linspace(-8,10, 10)\n",
    "plt.plot(n, func1(n))\n",
    "plt.plot(b, func2(b))\n",
    "plt.show()\n",
    "\n"
   ]
  },
  {
   "cell_type": "code",
   "execution_count": 69,
   "metadata": {
    "collapsed": false
   },
   "outputs": [
    {
     "ename": "SyntaxError",
     "evalue": "invalid syntax (<ipython-input-69-9ae3ff8d2d23>, line 2)",
     "output_type": "error",
     "traceback": [
      "\u001b[0;36m  File \u001b[0;32m\"<ipython-input-69-9ae3ff8d2d23>\"\u001b[0;36m, line \u001b[0;32m2\u001b[0m\n\u001b[0;31m    w =\u001b[0m\n\u001b[0m        ^\u001b[0m\n\u001b[0;31mSyntaxError\u001b[0m\u001b[0;31m:\u001b[0m invalid syntax\n"
     ]
    }
   ],
   "source": [
    "v = [1,1]\n",
    "w = \n",
    "n = np.linspace(-10,12, 10)\n",
    "def final(x, u):\n",
    "    #plotar original e final\n",
    "    return "
   ]
  },
  {
   "cell_type": "code",
   "execution_count": null,
   "metadata": {
    "collapsed": false
   },
   "outputs": [],
   "source": [
    "passa 2 vetors, usa x e y e faz os coiso lá pra obter o final.(Trabalho pra casa) A figura complexa"
   ]
  },
  {
   "cell_type": "code",
   "execution_count": null,
   "metadata": {
    "collapsed": true
   },
   "outputs": [],
   "source": []
  }
 ],
 "metadata": {
  "anaconda-cloud": {},
  "kernelspec": {
   "display_name": "Python [default]",
   "language": "python",
   "name": "python3"
  },
  "language_info": {
   "codemirror_mode": {
    "name": "ipython",
    "version": 3
   },
   "file_extension": ".py",
   "mimetype": "text/x-python",
   "name": "python",
   "nbconvert_exporter": "python",
   "pygments_lexer": "ipython3",
   "version": "3.5.2"
  }
 },
 "nbformat": 4,
 "nbformat_minor": 1
}
